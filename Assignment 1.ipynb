{
 "cells": [
  {
   "cell_type": "code",
   "execution_count": 1,
   "metadata": {},
   "outputs": [
    {
     "name": "stdout",
     "output_type": "stream",
     "text": [
      "Twinkle, twinkle, little star,\n",
      "\tHow I wonder what you are!\n",
      "\t\tUp above the world so high,\n",
      "\t\tLike a diamond in the sky.\n",
      "Twinkle, twinkle, little star,\n",
      "\tHow I wonder what you are!\n"
     ]
    }
   ],
   "source": [
    "print(\"Twinkle, twinkle, little star,\" )\n",
    "print(\"\\tHow I wonder what you are!\") \n",
    "print(\"\\t\\tUp above the world so high,\")\n",
    "print(\"\\t\\tLike a diamond in the sky.\")\n",
    "print(\"Twinkle, twinkle, little star,\") \n",
    "print(\"\\tHow I wonder what you are!\")"
   ]
  },
  {
   "cell_type": "code",
   "execution_count": 2,
   "metadata": {},
   "outputs": [
    {
     "name": "stdout",
     "output_type": "stream",
     "text": [
      "Python Version Information\n",
      "Python Version\n",
      "3.7.4 (default, Aug  9 2019, 18:34:13) [MSC v.1915 64 bit (AMD64)]\n",
      "Python Version Info\n",
      "sys.version_info(major=3, minor=7, micro=4, releaselevel='final', serial=0)\n"
     ]
    }
   ],
   "source": [
    "import sys\n",
    "print(\"Python Version Information\")\n",
    "print(\"Python Version\")\n",
    "print(sys.version)\n",
    "print(\"Python Version Info\")\n",
    "print(sys.version_info)"
   ]
  },
  {
   "cell_type": "code",
   "execution_count": 3,
   "metadata": {},
   "outputs": [
    {
     "name": "stdout",
     "output_type": "stream",
     "text": [
      "Current Date and Time is\n",
      " 2019-11-21 22:50:43.583074\n"
     ]
    }
   ],
   "source": [
    "import datetime \n",
    "datetime = datetime.datetime.now()\n",
    "print(\"Current Date and Time is\\n\",datetime)"
   ]
  },
  {
   "cell_type": "code",
   "execution_count": 4,
   "metadata": {},
   "outputs": [
    {
     "name": "stdout",
     "output_type": "stream",
     "text": [
      "Enter Radius\n",
      "2\n",
      "Area of circle is 12.568\n"
     ]
    }
   ],
   "source": [
    "x = 3.142\n",
    "print('Enter Radius')\n",
    "y = int(input())\n",
    "z = (x)*y**2 #area of circle = pi*r^2\n",
    "print('Area of circle is',z)"
   ]
  },
  {
   "cell_type": "code",
   "execution_count": 5,
   "metadata": {},
   "outputs": [
    {
     "name": "stdout",
     "output_type": "stream",
     "text": [
      "Enter First Name:\n",
      "taha\n",
      "Enter Last Name:\n",
      "shahid\n",
      "ahat dihahs\n"
     ]
    }
   ],
   "source": [
    "print('Enter First Name:')\n",
    "x = input()\n",
    "print('Enter Last Name:')\n",
    "y = input()\n",
    "z = x[::-1]+' '+y[::-1]\n",
    "print(z)"
   ]
  },
  {
   "cell_type": "code",
   "execution_count": 6,
   "metadata": {},
   "outputs": [
    {
     "name": "stdout",
     "output_type": "stream",
     "text": [
      "Enter 1st Value:\n",
      "2\n",
      "Enter 2nd Value:\n",
      "2\n",
      "Sum is 4\n"
     ]
    }
   ],
   "source": [
    "print('Enter 1st Value:')\n",
    "x = int(input())\n",
    "print('Enter 2nd Value:')\n",
    "y = int(input())\n",
    "z = x + y\n",
    "print('Sum is',z)"
   ]
  }
 ],
 "metadata": {
  "kernelspec": {
   "display_name": "Python 3",
   "language": "python",
   "name": "python3"
  },
  "language_info": {
   "codemirror_mode": {
    "name": "ipython",
    "version": 3
   },
   "file_extension": ".py",
   "mimetype": "text/x-python",
   "name": "python",
   "nbconvert_exporter": "python",
   "pygments_lexer": "ipython3",
   "version": "3.7.4"
  }
 },
 "nbformat": 4,
 "nbformat_minor": 2
}
