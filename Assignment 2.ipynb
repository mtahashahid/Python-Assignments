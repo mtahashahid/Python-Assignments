{
 "cells": [
  {
   "cell_type": "code",
   "execution_count": 1,
   "metadata": {},
   "outputs": [
    {
     "name": "stdout",
     "output_type": "stream",
     "text": [
      "Enter a number: 2\n",
      "2 is Even\n"
     ]
    }
   ],
   "source": [
    "#evn odd \n",
    "num = int(input(\"Enter a number: \"))\n",
    "if (num % 2) == 0:\n",
    "   print(\"{0} is Even\".format(num))\n",
    "else:\n",
    "   print(\"{0} is Odd\".format(num))"
   ]
  },
  {
   "cell_type": "code",
   "execution_count": 2,
   "metadata": {},
   "outputs": [
    {
     "name": "stdout",
     "output_type": "stream",
     "text": [
      "The length of list is:  3\n"
     ]
    }
   ],
   "source": [
    "#list length\n",
    "n = len([10, 20, 30]) \n",
    "print(\"The length of list is: \", n)"
   ]
  },
  {
   "cell_type": "code",
   "execution_count": 3,
   "metadata": {},
   "outputs": [
    {
     "name": "stdout",
     "output_type": "stream",
     "text": [
      "31\n"
     ]
    }
   ],
   "source": [
    "#sum of all numerics\n",
    "def sum(numbers):\n",
    "    total = 0\n",
    "    for x in numbers:\n",
    "        total += x\n",
    "    return total\n",
    "print(sum((5, 6, 5, 8, 7)))"
   ]
  },
  {
   "cell_type": "code",
   "execution_count": 4,
   "metadata": {},
   "outputs": [
    {
     "name": "stdout",
     "output_type": "stream",
     "text": [
      "Largest element is: 95\n"
     ]
    }
   ],
   "source": [
    "#largest number in list\n",
    "list = [15, 60, 5, 45, 95] \n",
    "\n",
    "print(\"Largest element is:\", max(list))"
   ]
  },
  {
   "cell_type": "code",
   "execution_count": 8,
   "metadata": {},
   "outputs": [
    {
     "name": "stdout",
     "output_type": "stream",
     "text": [
      "[1, 1, 2, 3]\n"
     ]
    }
   ],
   "source": [
    "a = [1, 1, 2, 3, 5, 8, 13, 21, 34, 55, 89]\n",
    "b = []\n",
    "for elements in a:\n",
    "    if elements < 5:\n",
    "         b.append(elements)\n",
    "print(b)"
   ]
  },
  {
   "cell_type": "code",
   "execution_count": 9,
   "metadata": {},
   "outputs": [
    {
     "name": "stdout",
     "output_type": "stream",
     "text": [
      "Marks In English Core:56\n",
      "Marks In Mathematics:80\n",
      "Marks In Physics:90\n",
      "Marks In Chemistry:85\n",
      "Marks In Computer Science:70\n",
      "Your Marks In Percentage Is 76.2 %\n",
      "You have passed!\n"
     ]
    }
   ],
   "source": [
    "a=int(input(\"Marks In English Core:\"))\n",
    "b=int(input(\"Marks In Mathematics:\"))\n",
    "c=int(input(\"Marks In Physics:\"))\n",
    "d=int(input(\"Marks In Chemistry:\"))\n",
    "e=int(input(\"Marks In Computer Science:\"))\n",
    " \n",
    "f=(a+b+c+d+e)*100/500\n",
    "print(\"Your Marks In Percentage Is\",f,\"%\")\n",
    " \n",
    "if f>=33:\n",
    "\tprint('You have passed!')\n",
    "else:\n",
    "\tprint('You have failed')"
   ]
  },
  {
   "cell_type": "code",
   "execution_count": null,
   "metadata": {},
   "outputs": [],
   "source": []
  }
 ],
 "metadata": {
  "kernelspec": {
   "display_name": "Python 3",
   "language": "python",
   "name": "python3"
  },
  "language_info": {
   "codemirror_mode": {
    "name": "ipython",
    "version": 3
   },
   "file_extension": ".py",
   "mimetype": "text/x-python",
   "name": "python",
   "nbconvert_exporter": "python",
   "pygments_lexer": "ipython3",
   "version": "3.7.4"
  }
 },
 "nbformat": 4,
 "nbformat_minor": 2
}
